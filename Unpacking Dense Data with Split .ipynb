{
 "cells": [
  {
   "cell_type": "code",
   "execution_count": 5,
   "id": "31697d4d",
   "metadata": {},
   "outputs": [],
   "source": [
    "import pandas as pd\n",
    "import numpy as np"
   ]
  },
  {
   "cell_type": "code",
   "execution_count": 6,
   "id": "17dce6fc",
   "metadata": {},
   "outputs": [],
   "source": [
    "df = pd.read_excel(\"Split Info/Sample B.xlsx\")"
   ]
  },
  {
   "cell_type": "markdown",
   "id": "a075cbe4",
   "metadata": {},
   "source": [
    "This is a small sample of an almost 10,000 line data set.  Too much to copy & paste by hand, besides the potential for error. Each variable needed to be in its own labeled column, not grouped into one column, such as [1/1/1901], [Last_name_1], [First_name_1], [City_1] The data was confidential, so I redacted it.\n",
    "\n",
    "In the main set, some records had one person, one person and a business, just a business, several people, or several people and a business. Some had multiple license numbers, starting with several prefixes, some simply had \"Not licensed\" in that field. So, while luckily there was a lot of consistency, there was also a lot of variability."
   ]
  },
  {
   "cell_type": "code",
   "execution_count": 7,
   "id": "580ded18",
   "metadata": {},
   "outputs": [
    {
     "data": {
      "text/html": [
       "<div>\n",
       "<style scoped>\n",
       "    .dataframe tbody tr th:only-of-type {\n",
       "        vertical-align: middle;\n",
       "    }\n",
       "\n",
       "    .dataframe tbody tr th {\n",
       "        vertical-align: top;\n",
       "    }\n",
       "\n",
       "    .dataframe thead th {\n",
       "        text-align: right;\n",
       "    }\n",
       "</style>\n",
       "<table border=\"1\" class=\"dataframe\">\n",
       "  <thead>\n",
       "    <tr style=\"text-align: right;\">\n",
       "      <th></th>\n",
       "      <th>Name and Location</th>\n",
       "      <th>the string</th>\n",
       "      <th>why the string</th>\n",
       "    </tr>\n",
       "  </thead>\n",
       "  <tbody>\n",
       "    <tr>\n",
       "      <th>0</th>\n",
       "      <td>Last_name_1,First_name_1,</td>\n",
       "      <td>Date: 1/1/1901</td>\n",
       "      <td>corresponding string of text 1</td>\n",
       "    </tr>\n",
       "    <tr>\n",
       "      <th>1</th>\n",
       "      <td>City: City_1</td>\n",
       "      <td>NaN</td>\n",
       "      <td>NaN</td>\n",
       "    </tr>\n",
       "    <tr>\n",
       "      <th>2</th>\n",
       "      <td>County: OUT OF STATE</td>\n",
       "      <td>String of text 1</td>\n",
       "      <td>NaN</td>\n",
       "    </tr>\n",
       "    <tr>\n",
       "      <th>3</th>\n",
       "      <td>Zip Code: 00001</td>\n",
       "      <td>NaN</td>\n",
       "      <td>NaN</td>\n",
       "    </tr>\n",
       "    <tr>\n",
       "      <th>4</th>\n",
       "      <td>NaN</td>\n",
       "      <td>NaN</td>\n",
       "      <td>NaN</td>\n",
       "    </tr>\n",
       "    <tr>\n",
       "      <th>5</th>\n",
       "      <td>NaN</td>\n",
       "      <td>NaN</td>\n",
       "      <td>NaN</td>\n",
       "    </tr>\n",
       "    <tr>\n",
       "      <th>6</th>\n",
       "      <td>License #: AA000000</td>\n",
       "      <td>NaN</td>\n",
       "      <td>NaN</td>\n",
       "    </tr>\n",
       "    <tr>\n",
       "      <th>7</th>\n",
       "      <td>NaN</td>\n",
       "      <td>NaN</td>\n",
       "      <td>NaN</td>\n",
       "    </tr>\n",
       "    <tr>\n",
       "      <th>8</th>\n",
       "      <td>Complaint # AA0000000</td>\n",
       "      <td>NaN</td>\n",
       "      <td>NaN</td>\n",
       "    </tr>\n",
       "    <tr>\n",
       "      <th>9</th>\n",
       "      <td>Company: Company_Name_1, INC</td>\n",
       "      <td>Date: 2/2/1901</td>\n",
       "      <td>corresponding string of text 2</td>\n",
       "    </tr>\n",
       "    <tr>\n",
       "      <th>10</th>\n",
       "      <td>City: City_2</td>\n",
       "      <td>NaN</td>\n",
       "      <td>NaN</td>\n",
       "    </tr>\n",
       "    <tr>\n",
       "      <th>11</th>\n",
       "      <td>County: County_2</td>\n",
       "      <td>String of text 2</td>\n",
       "      <td>NaN</td>\n",
       "    </tr>\n",
       "    <tr>\n",
       "      <th>12</th>\n",
       "      <td>Zip Code: 00002</td>\n",
       "      <td>NaN</td>\n",
       "      <td>NaN</td>\n",
       "    </tr>\n",
       "    <tr>\n",
       "      <th>13</th>\n",
       "      <td>NaN</td>\n",
       "      <td>NaN</td>\n",
       "      <td>NaN</td>\n",
       "    </tr>\n",
       "    <tr>\n",
       "      <th>14</th>\n",
       "      <td>Company: Company_Name_1 City LIC AA0001</td>\n",
       "      <td>NaN</td>\n",
       "      <td>NaN</td>\n",
       "    </tr>\n",
       "    <tr>\n",
       "      <th>15</th>\n",
       "      <td>City: City_2</td>\n",
       "      <td>NaN</td>\n",
       "      <td>NaN</td>\n",
       "    </tr>\n",
       "    <tr>\n",
       "      <th>16</th>\n",
       "      <td>County: County_2</td>\n",
       "      <td>NaN</td>\n",
       "      <td>NaN</td>\n",
       "    </tr>\n",
       "    <tr>\n",
       "      <th>17</th>\n",
       "      <td>Zip Code: 00002</td>\n",
       "      <td>NaN</td>\n",
       "      <td>NaN</td>\n",
       "    </tr>\n",
       "    <tr>\n",
       "      <th>18</th>\n",
       "      <td>NaN</td>\n",
       "      <td>NaN</td>\n",
       "      <td>NaN</td>\n",
       "    </tr>\n",
       "    <tr>\n",
       "      <th>19</th>\n",
       "      <td>NaN</td>\n",
       "      <td>NaN</td>\n",
       "      <td>NaN</td>\n",
       "    </tr>\n",
       "    <tr>\n",
       "      <th>20</th>\n",
       "      <td>License: Not Licensed</td>\n",
       "      <td>NaN</td>\n",
       "      <td>NaN</td>\n",
       "    </tr>\n",
       "    <tr>\n",
       "      <th>21</th>\n",
       "      <td>NaN</td>\n",
       "      <td>NaN</td>\n",
       "      <td>NaN</td>\n",
       "    </tr>\n",
       "    <tr>\n",
       "      <th>22</th>\n",
       "      <td>Complaint # AA0000001</td>\n",
       "      <td>NaN</td>\n",
       "      <td>NaN</td>\n",
       "    </tr>\n",
       "    <tr>\n",
       "      <th>23</th>\n",
       "      <td>Last_Name_2, First_Name_2</td>\n",
       "      <td>Date: 3/3/1919</td>\n",
       "      <td>corresponding string of text 3</td>\n",
       "    </tr>\n",
       "    <tr>\n",
       "      <th>24</th>\n",
       "      <td>NaN</td>\n",
       "      <td>NaN</td>\n",
       "      <td>NaN</td>\n",
       "    </tr>\n",
       "    <tr>\n",
       "      <th>25</th>\n",
       "      <td>Company: Company_Name_2</td>\n",
       "      <td>String of text 3</td>\n",
       "      <td>NaN</td>\n",
       "    </tr>\n",
       "    <tr>\n",
       "      <th>26</th>\n",
       "      <td>City: city_3</td>\n",
       "      <td>NaN</td>\n",
       "      <td>NaN</td>\n",
       "    </tr>\n",
       "    <tr>\n",
       "      <th>27</th>\n",
       "      <td>County: County_3</td>\n",
       "      <td>NaN</td>\n",
       "      <td>NaN</td>\n",
       "    </tr>\n",
       "    <tr>\n",
       "      <th>28</th>\n",
       "      <td>Zip Code: 00003</td>\n",
       "      <td>NaN</td>\n",
       "      <td>NaN</td>\n",
       "    </tr>\n",
       "    <tr>\n",
       "      <th>29</th>\n",
       "      <td>NaN</td>\n",
       "      <td>NaN</td>\n",
       "      <td>NaN</td>\n",
       "    </tr>\n",
       "    <tr>\n",
       "      <th>30</th>\n",
       "      <td>NaN</td>\n",
       "      <td>NaN</td>\n",
       "      <td>NaN</td>\n",
       "    </tr>\n",
       "    <tr>\n",
       "      <th>31</th>\n",
       "      <td>License #: ME0003</td>\n",
       "      <td>NaN</td>\n",
       "      <td>NaN</td>\n",
       "    </tr>\n",
       "    <tr>\n",
       "      <th>32</th>\n",
       "      <td>NaN</td>\n",
       "      <td>NaN</td>\n",
       "      <td>NaN</td>\n",
       "    </tr>\n",
       "    <tr>\n",
       "      <th>33</th>\n",
       "      <td>Complaint # AA0000003</td>\n",
       "      <td>NaN</td>\n",
       "      <td>NaN</td>\n",
       "    </tr>\n",
       "  </tbody>\n",
       "</table>\n",
       "</div>"
      ],
      "text/plain": [
       "                          Name and Location        the string  \\\n",
       "0                Last_name_1,First_name_1,     Date: 1/1/1901   \n",
       "1                              City: City_1               NaN   \n",
       "2                      County: OUT OF STATE  String of text 1   \n",
       "3                           Zip Code: 00001               NaN   \n",
       "4                                       NaN               NaN   \n",
       "5                                       NaN               NaN   \n",
       "6                       License #: AA000000               NaN   \n",
       "7                                       NaN               NaN   \n",
       "8                     Complaint # AA0000000               NaN   \n",
       "9              Company: Company_Name_1, INC    Date: 2/2/1901   \n",
       "10                             City: City_2               NaN   \n",
       "11                         County: County_2  String of text 2   \n",
       "12                          Zip Code: 00002               NaN   \n",
       "13                                      NaN               NaN   \n",
       "14  Company: Company_Name_1 City LIC AA0001               NaN   \n",
       "15                             City: City_2               NaN   \n",
       "16                         County: County_2               NaN   \n",
       "17                          Zip Code: 00002               NaN   \n",
       "18                                      NaN               NaN   \n",
       "19                                      NaN               NaN   \n",
       "20                    License: Not Licensed               NaN   \n",
       "21                                      NaN               NaN   \n",
       "22                    Complaint # AA0000001               NaN   \n",
       "23                Last_Name_2, First_Name_2    Date: 3/3/1919   \n",
       "24                                      NaN               NaN   \n",
       "25                  Company: Company_Name_2  String of text 3   \n",
       "26                             City: city_3               NaN   \n",
       "27                         County: County_3               NaN   \n",
       "28                          Zip Code: 00003               NaN   \n",
       "29                                      NaN               NaN   \n",
       "30                                      NaN               NaN   \n",
       "31                        License #: ME0003               NaN   \n",
       "32                                      NaN               NaN   \n",
       "33                    Complaint # AA0000003               NaN   \n",
       "\n",
       "                    why the string  \n",
       "0   corresponding string of text 1  \n",
       "1                              NaN  \n",
       "2                              NaN  \n",
       "3                              NaN  \n",
       "4                              NaN  \n",
       "5                              NaN  \n",
       "6                              NaN  \n",
       "7                              NaN  \n",
       "8                              NaN  \n",
       "9   corresponding string of text 2  \n",
       "10                             NaN  \n",
       "11                             NaN  \n",
       "12                             NaN  \n",
       "13                             NaN  \n",
       "14                             NaN  \n",
       "15                             NaN  \n",
       "16                             NaN  \n",
       "17                             NaN  \n",
       "18                             NaN  \n",
       "19                             NaN  \n",
       "20                             NaN  \n",
       "21                             NaN  \n",
       "22                             NaN  \n",
       "23  corresponding string of text 3  \n",
       "24                             NaN  \n",
       "25                             NaN  \n",
       "26                             NaN  \n",
       "27                             NaN  \n",
       "28                             NaN  \n",
       "29                             NaN  \n",
       "30                             NaN  \n",
       "31                             NaN  \n",
       "32                             NaN  \n",
       "33                             NaN  "
      ]
     },
     "execution_count": 7,
     "metadata": {},
     "output_type": "execute_result"
    }
   ],
   "source": [
    "df"
   ]
  },
  {
   "cell_type": "markdown",
   "id": "1ec7a8eb",
   "metadata": {},
   "source": [
    "The line below is the typical use of split. It's lovely, separates the variables as described, \n",
    "except for one thing."
   ]
  },
  {
   "cell_type": "code",
   "execution_count": null,
   "id": "9333e6b0",
   "metadata": {},
   "outputs": [],
   "source": [
    "#df['Original_Col'].str.split('Variable:', expand=True) "
   ]
  },
  {
   "cell_type": "markdown",
   "id": "45b3501c",
   "metadata": {},
   "source": [
    "This is the result of split. It removes everything to the left of the delimiter, and the delimiter which is **':'** in this case. "
   ]
  },
  {
   "cell_type": "code",
   "execution_count": 158,
   "id": "a07d359e",
   "metadata": {},
   "outputs": [],
   "source": [
    "#df = pd.concat((df, df['Original_Col'].str.split('Date:', expand=True)), axis=1, ignore_index=True) #Start with the first row of variables, as \n",
    "#everything will step down nicely when you split, which is more readable."
   ]
  },
  {
   "cell_type": "markdown",
   "id": "1f017148",
   "metadata": {},
   "source": [
    "Concat is essential, so that the data ends up in one df. If your goal is simply a new column, use split without concat."
   ]
  },
  {
   "cell_type": "markdown",
   "id": "51c0d89c",
   "metadata": {},
   "source": [
    "Keep the first/original column until you have finished, so you can compare your split columns and ensure no data is missing. Below, it is df[0].\n",
    "The city name is now in its own column, the rest of the info (sans city name) is now in an almost-duplicate column. You will split from the duplicate column. As you continue to split, you can and should drop the column you split from, because they are redundant and messy. Below, df[6]. "
   ]
  },
  {
   "cell_type": "markdown",
   "id": "ddc0d835",
   "metadata": {},
   "source": [
    "Note: sometimes things like 'License #' and 'License: Not Licensed' will have to be dealt with somewhat differently. I noted how many variations of the variable name there were, split based on each delimiter, then recombined to appropriate columns.  "
   ]
  },
  {
   "cell_type": "markdown",
   "id": "8d0bfc17",
   "metadata": {},
   "source": [
    "**After** everything was split, I used cumsum to add a \"record number\" to each group of record data. I based it on 'date:' as that was the first data row in each record. "
   ]
  },
  {
   "cell_type": "code",
   "execution_count": null,
   "id": "00746372",
   "metadata": {},
   "outputs": [],
   "source": [
    " df['record number'] = df[col with each var 2].ne(df['Var2']).cumsum()\n"
   ]
  },
  {
   "cell_type": "code",
   "execution_count": null,
   "id": "8ee4f080",
   "metadata": {},
   "outputs": [],
   "source": [
    "then used .ffill() based on the record number, which should labeled each row that belongs to the label"
   ]
  },
  {
   "cell_type": "code",
   "execution_count": null,
   "id": "ca728a7c",
   "metadata": {},
   "outputs": [],
   "source": [
    "df['col_2'] = df['col_1'].replace(0, np.NaN).ffill() "
   ]
  },
  {
   "cell_type": "markdown",
   "id": "cb123a00",
   "metadata": {},
   "source": [
    "I left the NaN values until after the record numbers were added. It isn't hard to replace them with empty strings, or put them back, as needed, based on what you are trying to manipulate."
   ]
  },
  {
   "cell_type": "code",
   "execution_count": null,
   "id": "c078486e",
   "metadata": {},
   "outputs": [],
   "source": [
    "#df.replace('', np.nan, inplace=True) "
   ]
  },
  {
   "cell_type": "markdown",
   "id": "a218577a",
   "metadata": {},
   "source": [
    "At this point, I exported and went back into excel for manual cleaning and organizing.\n",
    " \n",
    "I searched the df for any symbol that might not occur at all, and found that '@' did not. I used '@' as a place holder for empty values, because in I discovered that later recombining records into a single row won't work properly without it."
   ]
  },
  {
   "cell_type": "markdown",
   "id": "e8c6e6e8",
   "metadata": {},
   "source": [
    "once place holders are there, and everything was organized to satisfaction, I return to python"
   ]
  },
  {
   "cell_type": "code",
   "execution_count": null,
   "id": "0a5ae287",
   "metadata": {},
   "outputs": [],
   "source": [
    "#df.groupby('record number', as_index=False).first()"
   ]
  },
  {
   "cell_type": "markdown",
   "id": "297fe5bd",
   "metadata": {},
   "source": [
    " This flattened the records into one row, based on their 'record number'. The result was only one record per row, with each column containing a separate variable for the record. Sucess! \n",
    " \n",
    " There were a bunch of rows with just place holders at the bottom of the df. Those were dropped, but I looked closely though, in case there is any data mixed in there, and suggest anyone do the same.\n",
    " \n",
    " Then, I went back and compared the new df to the original, to be sure that no data was corrupted.\n",
    " \n",
    " The place holders were replaced with empty strings, but of course the options are open there."
   ]
  },
  {
   "cell_type": "code",
   "execution_count": null,
   "id": "a35927af",
   "metadata": {},
   "outputs": [],
   "source": [
    "df.to_excel('Your_Pathname_Here/Flattened Sample B.xlsx', index = False)"
   ]
  },
  {
   "cell_type": "markdown",
   "id": "985a25fa",
   "metadata": {},
   "source": [
    "#export to computer as new xlsx file"
   ]
  },
  {
   "cell_type": "markdown",
   "id": "f8186519",
   "metadata": {},
   "source": [
    "#If dealing with a similarly dense column that is NOT delimited or labeled, I wonder if appending conditionally would work \n",
    "#https://pandas.pydata.org/docs/reference/api/pandas.Series.str.cat.html"
   ]
  },
  {
   "cell_type": "code",
   "execution_count": null,
   "id": "329cd160",
   "metadata": {},
   "outputs": [],
   "source": []
  }
 ],
 "metadata": {
  "kernelspec": {
   "display_name": "Python 3",
   "language": "python",
   "name": "python3"
  },
  "language_info": {
   "codemirror_mode": {
    "name": "ipython",
    "version": 3
   },
   "file_extension": ".py",
   "mimetype": "text/x-python",
   "name": "python",
   "nbconvert_exporter": "python",
   "pygments_lexer": "ipython3",
   "version": "3.8.8"
  }
 },
 "nbformat": 4,
 "nbformat_minor": 5
}
